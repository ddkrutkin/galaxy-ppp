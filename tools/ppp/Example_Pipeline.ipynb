{
 "cells": [
  {
   "cell_type": "code",
   "execution_count": 11,
   "id": "7b1e6173",
   "metadata": {},
   "outputs": [
    {
     "name": "stdout",
     "output_type": "stream",
     "text": [
      "Imports complete\n"
     ]
    }
   ],
   "source": [
    "import sys\n",
    "import os\n",
    "import subprocess\n",
    "\n",
    "import four_gamete, vcf_split_pysam, vcf_filter, vcf_calc, vcf_phase, stat_sampler, vcf_split\n",
    "from informative_loci_filter import filter_bed_regions\n",
    "#import filter_stat\n",
    "import pysam \n",
    "\n",
    "print (\"Imports complete\")"
   ]
  },
  {
   "cell_type": "code",
   "execution_count": 51,
   "id": "a52bd304",
   "metadata": {},
   "outputs": [],
   "source": [
    "#Set up directories and filepaths, run on all restarts\n",
    "work_dir='toy_files/'\n",
    "#data_dir='/media/ccgg/ppp_sample_data/'\n",
    "data_dir=work_dir\n",
    "vcf_dir = work_dir+'vcfs/'\n",
    "\n",
    "\n",
    "main_vcf_name = data_dir+'pan_chr20.vcf.gz'\n",
    "filtered_vcf_name = vcf_dir+'pan_chr20_filtered_missing.vcf.gz'\n",
    "stat_file_name = vcf_dir+'fst_regions.bed'\n",
    "model_file = data_dir+'great_ape.model'\n",
    "int_bed_file = vcf_dir+'regions_for_sampling.bed'\n",
    "target_loci_file = vcf_dir+'target_loci.bed'\n",
    "ima_input_file = vcf_dir+'test_run_input.ima.u'\n",
    "#subsamp_bed_file = work_dir+'great_ape_genome2/5k_sample.bed'\n",
    "#logfile = '/home/jared/testpppj.log'\n",
    "\n",
    "loci=200\n",
    "\n",
    "region_files = [vcf_dir+'Sampled_nonmissing/out_'+str(i)+'.vcf.gz' for i in range(loci)]\n",
    "phased_files = [vcf_dir+'Phased/phased_'+str(i)+'.vcf' for i in range(loci)]\n",
    "fourg_files = [vcf_dir+'four_gamete/Sample_'+str(i)+'.vcf' for i in range(loci)]\n",
    "passed_files = []"
   ]
  },
  {
   "cell_type": "code",
   "execution_count": 14,
   "id": "345f4224",
   "metadata": {},
   "outputs": [],
   "source": [
    "#Set up directory structure, only needs to be run once\n",
    "if not os.path.exists(vcf_dir):\n",
    "    os.makedirs(vcf_dir)\n",
    "    os.makedirs(vcf_dir+'four_gamete/')\n",
    "    os.makedirs(vcf_dir+'Sampled_nonmissing/')\n",
    "    os.makedirs(vcf_dir+'Phased/')"
   ]
  },
  {
   "cell_type": "code",
   "execution_count": 25,
   "id": "ae153aae",
   "metadata": {},
   "outputs": [
    {
     "ename": "TypeError",
     "evalue": "run() takes 0 positional arguments but 1 was given",
     "output_type": "error",
     "traceback": [
      "\u001b[0;31m---------------------------------------------------------------------------\u001b[0m",
      "\u001b[0;31mTypeError\u001b[0m                                 Traceback (most recent call last)",
      "\u001b[0;32m/tmp/ipykernel_57771/2635391161.py\u001b[0m in \u001b[0;36m<module>\u001b[0;34m\u001b[0m\n\u001b[1;32m      2\u001b[0m vcf_filter.run(['--vcf', main_vcf_name, '--filter-max-missing', '1.0', '--model-file',model_file,\n\u001b[1;32m      3\u001b[0m                 \u001b[0;34m'--model'\u001b[0m\u001b[0;34m,\u001b[0m\u001b[0;34m'2Pop'\u001b[0m\u001b[0;34m,\u001b[0m \u001b[0;34m'--filter-min-alleles'\u001b[0m\u001b[0;34m,\u001b[0m \u001b[0;34m'2'\u001b[0m\u001b[0;34m,\u001b[0m \u001b[0;34m'--filter-max-alleles'\u001b[0m\u001b[0;34m,\u001b[0m \u001b[0;34m'2'\u001b[0m\u001b[0;34m,\u001b[0m \u001b[0;34m'--out-format'\u001b[0m\u001b[0;34m,\u001b[0m\u001b[0;34m\u001b[0m\u001b[0;34m\u001b[0m\u001b[0m\n\u001b[0;32m----> 4\u001b[0;31m                 'vcf.gz', '--out', filtered_vcf_name, '--overwrite'])\n\u001b[0m\u001b[1;32m      5\u001b[0m \u001b[0;34m\u001b[0m\u001b[0m\n\u001b[1;32m      6\u001b[0m \u001b[0mpysam\u001b[0m\u001b[0;34m.\u001b[0m\u001b[0mtabix_index\u001b[0m\u001b[0;34m(\u001b[0m\u001b[0mfiltered_vcf_name\u001b[0m\u001b[0;34m,\u001b[0m\u001b[0mpreset\u001b[0m\u001b[0;34m=\u001b[0m\u001b[0;34m'vcf'\u001b[0m\u001b[0;34m)\u001b[0m\u001b[0;34m\u001b[0m\u001b[0;34m\u001b[0m\u001b[0m\n",
      "\u001b[0;31mTypeError\u001b[0m: run() takes 0 positional arguments but 1 was given"
     ]
    }
   ],
   "source": [
    "#Creates VCF filtered for no missing data and biallelic sites\n",
    "vcf_filter.run(['--vcf', main_vcf_name, '--filter-max-missing', '1.0', '--model-file',model_file,\n",
    "                '--model','2Pop', '--filter-min-alleles', '2', '--filter-max-alleles', '2', '--out-format',\n",
    "                'vcf.gz', '--out', filtered_vcf_name, '--overwrite'])\n",
    "\n",
    "pysam.tabix_index(filtered_vcf_name,preset='vcf')\n",
    "print(\"Filtering complete\")\n",
    "\n",
    "## RUN AT TERMINAL "
   ]
  },
  {
   "cell_type": "code",
   "execution_count": 52,
   "id": "5415c372",
   "metadata": {},
   "outputs": [
    {
     "name": "stdout",
     "output_type": "stream",
     "text": [
      "Stat calculation complete\n"
     ]
    }
   ],
   "source": [
    "#Calculates f_st statistics across genome\n",
    "vcf_calc.run(['--vcf', filtered_vcf_name, '--out', stat_file_name,\n",
    "              '--calc-statistic', 'windowed-weir-fst', '--model', '2Pop', '--statistic-window-size',\n",
    "              '10000', '--statistic-window-step', '10000', '--model-file', model_file, '--overwrite'])\n",
    "print(\"Stat calculation complete\")\n",
    "\n"
   ]
  },
  {
   "cell_type": "code",
   "execution_count": 27,
   "id": "ab9a862f",
   "metadata": {},
   "outputs": [
    {
     "ename": "TypeError",
     "evalue": "filter_bed_regions() takes 0 positional arguments but 1 was given",
     "output_type": "error",
     "traceback": [
      "\u001b[0;31m---------------------------------------------------------------------------\u001b[0m",
      "\u001b[0;31mTypeError\u001b[0m                                 Traceback (most recent call last)",
      "\u001b[0;32m/tmp/ipykernel_57771/3060384670.py\u001b[0m in \u001b[0;36m<module>\u001b[0;34m\u001b[0m\n\u001b[1;32m      2\u001b[0m filter_bed_regions(['--vcf',filtered_vcf_name,'--bed',stat_file_name,\n\u001b[1;32m      3\u001b[0m                     \u001b[0;34m'--remove-indels'\u001b[0m\u001b[0;34m,\u001b[0m\u001b[0;34m'--minsites'\u001b[0m\u001b[0;34m,\u001b[0m\u001b[0;34m'3'\u001b[0m\u001b[0;34m,\u001b[0m\u001b[0;34m'--keep-full-line'\u001b[0m\u001b[0;34m,\u001b[0m\u001b[0;34m'--out'\u001b[0m\u001b[0;34m,\u001b[0m\u001b[0mint_bed_file\u001b[0m\u001b[0;34m,\u001b[0m\u001b[0;34m\u001b[0m\u001b[0;34m\u001b[0m\u001b[0m\n\u001b[0;32m----> 4\u001b[0;31m                     '--randcount','5000','--remove-multi'])\n\u001b[0m\u001b[1;32m      5\u001b[0m \u001b[0mprint\u001b[0m\u001b[0;34m(\u001b[0m\u001b[0;34m\"BED regions selected\"\u001b[0m\u001b[0;34m)\u001b[0m\u001b[0;34m\u001b[0m\u001b[0;34m\u001b[0m\u001b[0m\n",
      "\u001b[0;31mTypeError\u001b[0m: filter_bed_regions() takes 0 positional arguments but 1 was given"
     ]
    }
   ],
   "source": [
    "#Selects subset of regions for fast sampling\n",
    "filter_bed_regions(['--vcf',filtered_vcf_name,'--bed',stat_file_name,\n",
    "                    '--remove-indels','--minsites','3','--keep-full-line','--out',int_bed_file,\n",
    "                    '--randcount','5000','--remove-multi'])\n",
    "print(\"BED regions selected\")\n",
    "## RUN AT TERMINAL "
   ]
  },
  {
   "cell_type": "code",
   "execution_count": 28,
   "id": "10817e6a",
   "metadata": {},
   "outputs": [
    {
     "ename": "TypeError",
     "evalue": "run() takes 0 positional arguments but 1 was given",
     "output_type": "error",
     "traceback": [
      "\u001b[0;31m---------------------------------------------------------------------------\u001b[0m",
      "\u001b[0;31mTypeError\u001b[0m                                 Traceback (most recent call last)",
      "\u001b[0;32m/tmp/ipykernel_57771/2576918312.py\u001b[0m in \u001b[0;36m<module>\u001b[0;34m\u001b[0m\n\u001b[1;32m      1\u001b[0m stat_sampler.run(['--statistic-file',int_bed_file,'--out',target_loci_file,'--sampling-scheme','uniform',\n\u001b[0;32m----> 2\u001b[0;31m                  '--uniform-bins','5','--sample-size',str(loci),'--calc-statistic','windowed-weir-fst','--overwrite'])\n\u001b[0m",
      "\u001b[0;31mTypeError\u001b[0m: run() takes 0 positional arguments but 1 was given"
     ]
    }
   ],
   "source": [
    "stat_sampler.run(['--statistic-file',int_bed_file,'--out',target_loci_file,'--sampling-scheme','uniform',\n",
    "                 '--uniform-bins','5','--sample-size',str(loci),'--calc-statistic','windowed-weir-fst','--overwrite'])\n",
    "\n",
    "## RUN AT TERMINAL "
   ]
  },
  {
   "cell_type": "code",
   "execution_count": 53,
   "id": "88c8997b",
   "metadata": {},
   "outputs": [
    {
     "ename": "Exception",
     "evalue": "Error: Could not open VCF Output file: Split_VCFs/toy_files/vcfs/Sampled_nonmissing/Sample_0.recode.vcf",
     "output_type": "error",
     "traceback": [
      "\u001b[0;31m---------------------------------------------------------------------------\u001b[0m",
      "\u001b[0;31mException\u001b[0m                                 Traceback (most recent call last)",
      "\u001b[0;32m/tmp/ipykernel_57771/4025644458.py\u001b[0m in \u001b[0;36m<module>\u001b[0;34m\u001b[0m\n\u001b[1;32m      5\u001b[0m \u001b[0;31m#                 work_dir + 'great_ape_genome2/Sample_Files', '--overwrite'])\u001b[0m\u001b[0;34m\u001b[0m\u001b[0;34m\u001b[0m\u001b[0;34m\u001b[0m\u001b[0m\n\u001b[1;32m      6\u001b[0m vcf_split.run(['--vcf',filtered_vcf_name,'--split-method','statistic-file','--out-format','vcf','--out-prefix',\n\u001b[0;32m----> 7\u001b[0;31m               vcf_dir+'Sampled_nonmissing/Sample','--split-file',target_loci_file])\n\u001b[0m\u001b[1;32m      8\u001b[0m \u001b[0;31m#vcf_split_pysam.vcf_region_write([filtered_vcf_name,'--rl',target_loci_file,\u001b[0m\u001b[0;34m\u001b[0m\u001b[0;34m\u001b[0m\u001b[0;34m\u001b[0m\u001b[0m\n\u001b[1;32m      9\u001b[0m \u001b[0;31m#                                  '--remove-indels','--remove-multi','--informative-count','2'])\u001b[0m\u001b[0;34m\u001b[0m\u001b[0;34m\u001b[0m\u001b[0;34m\u001b[0m\u001b[0m\n",
      "\u001b[0;32m~/ppp/PPP/galaxy/galaxy_ppp/PPP/tools/ppp/vcf_split.py\u001b[0m in \u001b[0;36mrun\u001b[0;34m(passed_arguments)\u001b[0m\n\u001b[1;32m    359\u001b[0m                                 'are incompatible')\n\u001b[1;32m    360\u001b[0m             \u001b[0;32mif\u001b[0m \u001b[0mvcf_args\u001b[0m\u001b[0;34m.\u001b[0m\u001b[0mfilter_exclude_indv\u001b[0m\u001b[0;34m:\u001b[0m\u001b[0;34m\u001b[0m\u001b[0;34m\u001b[0m\u001b[0m\n\u001b[0;32m--> 361\u001b[0;31m                 raise Exception('--model and --filter-exclude-indv arguments '\n\u001b[0m\u001b[1;32m    362\u001b[0m                                 'are incompatible')\n\u001b[1;32m    363\u001b[0m \u001b[0;34m\u001b[0m\u001b[0m\n",
      "\u001b[0;32m~/ppp/PPP/galaxy/galaxy_ppp/PPP/tools/ppp/vcftools.py\u001b[0m in \u001b[0;36mcall_vcftools\u001b[0;34m(vcftools_call_args, output_format, output_filename)\u001b[0m\n\u001b[1;32m    553\u001b[0m     \u001b[0;32melse\u001b[0m\u001b[0;34m:\u001b[0m\u001b[0;34m\u001b[0m\u001b[0;34m\u001b[0m\u001b[0m\n\u001b[1;32m    554\u001b[0m         \u001b[0;31m# Call vcftools under standard conditions\u001b[0m\u001b[0;34m\u001b[0m\u001b[0;34m\u001b[0m\u001b[0;34m\u001b[0m\u001b[0m\n\u001b[0;32m--> 555\u001b[0;31m         \u001b[0mvcftools_err\u001b[0m \u001b[0;34m=\u001b[0m \u001b[0mstandard_vcftools_call\u001b[0m\u001b[0;34m(\u001b[0m\u001b[0mvcftools_call_args\u001b[0m\u001b[0;34m)\u001b[0m\u001b[0;34m\u001b[0m\u001b[0;34m\u001b[0m\u001b[0m\n\u001b[0m\u001b[1;32m    556\u001b[0m \u001b[0;34m\u001b[0m\u001b[0m\n\u001b[1;32m    557\u001b[0m     \u001b[0;31m# Return the log\u001b[0m\u001b[0;34m\u001b[0m\u001b[0;34m\u001b[0m\u001b[0;34m\u001b[0m\u001b[0m\n",
      "\u001b[0;32m~/ppp/PPP/galaxy/galaxy_ppp/PPP/tools/ppp/vcftools.py\u001b[0m in \u001b[0;36mstandard_vcftools_call\u001b[0;34m(vcftools_call_args)\u001b[0m\n\u001b[1;32m    505\u001b[0m \u001b[0;34m\u001b[0m\u001b[0m\n\u001b[1;32m    506\u001b[0m     \u001b[0;31m# Check that the log file was created correctly\u001b[0m\u001b[0;34m\u001b[0m\u001b[0;34m\u001b[0m\u001b[0;34m\u001b[0m\u001b[0m\n\u001b[0;32m--> 507\u001b[0;31m     \u001b[0mcheck_vcftools_for_errors\u001b[0m\u001b[0;34m(\u001b[0m\u001b[0mvcftools_stderr\u001b[0m\u001b[0;34m)\u001b[0m\u001b[0;34m\u001b[0m\u001b[0;34m\u001b[0m\u001b[0m\n\u001b[0m\u001b[1;32m    508\u001b[0m \u001b[0;34m\u001b[0m\u001b[0m\n\u001b[1;32m    509\u001b[0m     \u001b[0;32mreturn\u001b[0m \u001b[0mvcftools_stderr\u001b[0m\u001b[0;34m\u001b[0m\u001b[0;34m\u001b[0m\u001b[0m\n",
      "\u001b[0;32m~/ppp/PPP/galaxy/galaxy_ppp/PPP/tools/ppp/vcftools.py\u001b[0m in \u001b[0;36mcheck_vcftools_for_errors\u001b[0;34m(vcftools_stderr)\u001b[0m\n\u001b[1;32m    652\u001b[0m         \u001b[0mvcftools_stderr_lines\u001b[0m \u001b[0;34m=\u001b[0m \u001b[0mvcftools_stderr\u001b[0m\u001b[0;34m.\u001b[0m\u001b[0msplitlines\u001b[0m\u001b[0;34m(\u001b[0m\u001b[0;34m)\u001b[0m\u001b[0;34m\u001b[0m\u001b[0;34m\u001b[0m\u001b[0m\n\u001b[1;32m    653\u001b[0m         \u001b[0;31m# Prints the error(s)\u001b[0m\u001b[0;34m\u001b[0m\u001b[0;34m\u001b[0m\u001b[0;34m\u001b[0m\u001b[0m\n\u001b[0;32m--> 654\u001b[0;31m         \u001b[0;32mraise\u001b[0m \u001b[0mException\u001b[0m\u001b[0;34m(\u001b[0m\u001b[0;34m'\\n'\u001b[0m\u001b[0;34m.\u001b[0m\u001b[0mjoin\u001b[0m\u001b[0;34m(\u001b[0m\u001b[0;34m(\u001b[0m\u001b[0moutput_line\u001b[0m \u001b[0;32mfor\u001b[0m \u001b[0moutput_line\u001b[0m \u001b[0;32min\u001b[0m \u001b[0mvcftools_stderr_lines\u001b[0m \u001b[0;32mif\u001b[0m \u001b[0moutput_line\u001b[0m\u001b[0;34m.\u001b[0m\u001b[0mstartswith\u001b[0m\u001b[0;34m(\u001b[0m\u001b[0;34m'Error'\u001b[0m\u001b[0;34m)\u001b[0m\u001b[0;34m)\u001b[0m\u001b[0;34m)\u001b[0m\u001b[0;34m)\u001b[0m\u001b[0;34m\u001b[0m\u001b[0;34m\u001b[0m\u001b[0m\n\u001b[0m\u001b[1;32m    655\u001b[0m \u001b[0;34m\u001b[0m\u001b[0m\n\u001b[1;32m    656\u001b[0m     \u001b[0;31m# Print output if not completed and no error found. Unlikely to be used, but included.\u001b[0m\u001b[0;34m\u001b[0m\u001b[0;34m\u001b[0m\u001b[0;34m\u001b[0m\u001b[0m\n",
      "\u001b[0;31mException\u001b[0m: Error: Could not open VCF Output file: Split_VCFs/toy_files/vcfs/Sampled_nonmissing/Sample_0.recode.vcf"
     ]
    }
   ],
   "source": [
    "#Uniformly sample regions for subset of 200 loci\n",
    "#vcf_sampler.run(['--vcf', filtered_vcf_name, '--statistic-file',\n",
    "#                 target_loci_file, '--out-format', 'vcf', '--calc-statistic', 'windowed-weir-fst',\n",
    "#                 '--sampling-scheme', 'uniform', '--uniform-bins', '5', '--out-dir',\n",
    "#                 work_dir + 'great_ape_genome2/Sample_Files', '--overwrite'])\n",
    "#vcf_split.run(['--vcf',filtered_vcf_name,'--split-method','statistic-file','--out-format','vcf','--out-prefix',\n",
    "#              vcf_dir+'Sampled_nonmissing/Sample','--split-file',target_loci_file])\n",
    "#vcf_split_pysam.vcf_region_write([filtered_vcf_name,'--rl',target_loci_file,\n",
    "#                                  '--remove-indels','--remove-multi','--informative-count','2'])\n",
    "\n",
    "print(\"Sampling complete\")\n",
    "\n",
    "## RUN SEPARATELY IN TERMINAL "
   ]
  },
  {
   "cell_type": "code",
   "execution_count": 54,
   "id": "bac8b875",
   "metadata": {},
   "outputs": [],
   "source": [
    "import subprocess"
   ]
  },
  {
   "cell_type": "code",
   "execution_count": 55,
   "id": "cb6ee09e",
   "metadata": {},
   "outputs": [
    {
     "name": "stdout",
     "output_type": "stream",
     "text": [
      "Phasing done\n"
     ]
    }
   ],
   "source": [
    "#Phase locus\n",
    "for i in range(loci):\n",
    "    subprocess.run(['python','vcf_phase.py','--vcf',region_files[i],'--phase-algorithm','shapeit','--out',\n",
    "                   phased_files[i],'--out-format','vcf','--overwrite'])\n",
    "print (\"Phasing done\")\n",
    "\n"
   ]
  },
  {
   "cell_type": "code",
   "execution_count": 56,
   "id": "cd967b74",
   "metadata": {},
   "outputs": [
    {
     "name": "stdout",
     "output_type": "stream",
     "text": [
      "Four gamete regions selected for 127 loci\n"
     ]
    }
   ],
   "source": [
    "#Subsample locus for four-gamete compatible interval, if no subregion returned, do not use VCF\n",
    "passed_files = []\n",
    "for i in range(loci):\n",
    "    ret = four_gamete.sample_fourgametetest_intervals(['--vcfs', phased_files[i], '--out',\n",
    "                                                       fourg_files[i], '--4gcompat', '--reti', '--right',\n",
    "                                                       '--numinf', '2'])\n",
    "    if ret[0] is not None:\n",
    "        passed_files.append(fourg_files[i])\n",
    "print (\"Four gamete regions selected for %d loci\"%(len(passed_files)))"
   ]
  },
  {
   "cell_type": "code",
   "execution_count": 66,
   "id": "94726f22",
   "metadata": {},
   "outputs": [],
   "source": [
    "import vcf_to_ima"
   ]
  },
  {
   "cell_type": "code",
   "execution_count": 65,
   "id": "53c6141f",
   "metadata": {},
   "outputs": [],
   "source": [
    "with open('toy_files/vcfs/filename.txt', 'w') as o:\n",
    "    for path in passed_files:\n",
    "        o.write(path + '\\n')"
   ]
  },
  {
   "cell_type": "code",
   "execution_count": 67,
   "id": "fc10628b",
   "metadata": {},
   "outputs": [
    {
     "name": "stderr",
     "output_type": "stream",
     "text": [
      "usage: ipykernel_launcher.py [-h] [--vcf VCFNAME]\n",
      "                             [--vcfs VCFLIST [VCFLIST ...]] [--ref REFNAME]\n",
      "                             [--bed GENENAME] [--pop POPNAME] [--zero-ho]\n",
      "                             [--zero-closed] [--keep-indels]\n",
      "                             [--remove-multiallele]\n",
      "                             [--remove-missing REMOVE_MISSING] [--parsecpg]\n",
      "                             [--noseq] [--trim-to-ref-length]\n",
      "                             [--output OUTPUT_NAME] [--gene-col GENE_COL]\n",
      "                             [--compress-vcf] [--conf CONFIG_NAME]\n",
      "                             [--no-ref-check] [--poptag POPTAG]\n",
      "                             [--mutrate MUTRATE]\n",
      "                             [--inheritance-scalar INHET_SC] [--fasta]\n",
      "                             [--multi-out MULTI_OUT]\n",
      "ipykernel_launcher.py: error: unrecognized arguments: --model-file toy_files/great_ape.model --model 2Pop\n"
     ]
    },
    {
     "ename": "SystemExit",
     "evalue": "2",
     "output_type": "error",
     "traceback": [
      "An exception has occurred, use %tb to see the full traceback.\n",
      "\u001b[0;31mSystemExit\u001b[0m\u001b[0;31m:\u001b[0m 2\n"
     ]
    },
    {
     "name": "stderr",
     "output_type": "stream",
     "text": [
      "/home/tu.temple.edu/tuk32868/miniconda3/envs/ppp/lib/python3.7/site-packages/IPython/core/interactiveshell.py:3465: UserWarning: To exit: use 'exit', 'quit', or Ctrl-D.\n",
      "  warn(\"To exit: use 'exit', 'quit', or Ctrl-D.\", stacklevel=1)\n"
     ]
    }
   ],
   "source": [
    "#Create IMa input file\n",
    "ima_args = ['--vcfs']\n",
    "ima_args.extend(passed_files)\n",
    "ima_args.extend(['--model-file', model_file, '--model','2Pop','--out', work_dir + 'ima_all_loci.ima.u'])\n",
    "\n",
    "vcf_to_ima.vcf_to_ima(ima_args)\n",
    "print (\"IMa input created\")"
   ]
  },
  {
   "cell_type": "code",
   "execution_count": 68,
   "id": "84892b7c",
   "metadata": {},
   "outputs": [
    {
     "ename": "ModuleNotFoundError",
     "evalue": "No module named 'convert'",
     "output_type": "error",
     "traceback": [
      "\u001b[0;31m---------------------------------------------------------------------------\u001b[0m",
      "\u001b[0;31mModuleNotFoundError\u001b[0m                       Traceback (most recent call last)",
      "\u001b[0;32m/tmp/ipykernel_57771/1965469677.py\u001b[0m in \u001b[0;36m<module>\u001b[0;34m\u001b[0m\n\u001b[1;32m      1\u001b[0m \u001b[0;31m#Admixture analysis, optional\u001b[0m\u001b[0;34m\u001b[0m\u001b[0;34m\u001b[0m\u001b[0;34m\u001b[0m\u001b[0m\n\u001b[0;32m----> 2\u001b[0;31m \u001b[0;32mimport\u001b[0m \u001b[0mconvert\u001b[0m\u001b[0;34m,\u001b[0m \u001b[0madmixture\u001b[0m\u001b[0;34m,\u001b[0m \u001b[0mgraph_plotter\u001b[0m\u001b[0;34m\u001b[0m\u001b[0;34m\u001b[0m\u001b[0m\n\u001b[0m\u001b[1;32m      3\u001b[0m \u001b[0mphased_string\u001b[0m \u001b[0;34m=\u001b[0m \u001b[0;34m' '\u001b[0m\u001b[0;34m.\u001b[0m\u001b[0mjoin\u001b[0m\u001b[0;34m(\u001b[0m\u001b[0mphased_files\u001b[0m\u001b[0;34m)\u001b[0m\u001b[0;34m\u001b[0m\u001b[0;34m\u001b[0m\u001b[0m\n\u001b[1;32m      4\u001b[0m \u001b[0mloci_vcf\u001b[0m \u001b[0;34m=\u001b[0m \u001b[0mvcf_dir\u001b[0m\u001b[0;34m+\u001b[0m\u001b[0;34m'Phased/phased_merged.vcf.gz'\u001b[0m\u001b[0;34m\u001b[0m\u001b[0;34m\u001b[0m\u001b[0m\n\u001b[1;32m      5\u001b[0m \u001b[0mconcatcall\u001b[0m \u001b[0;34m=\u001b[0m \u001b[0msubprocess\u001b[0m\u001b[0;34m.\u001b[0m\u001b[0mPopen\u001b[0m\u001b[0;34m(\u001b[0m\u001b[0;34m'vcf-concat '\u001b[0m\u001b[0;34m+\u001b[0m\u001b[0mphased_string\u001b[0m\u001b[0;34m+\u001b[0m \u001b[0;34m' | bgzip -c > '\u001b[0m\u001b[0;34m+\u001b[0m\u001b[0mloci_vcf\u001b[0m\u001b[0;34m,\u001b[0m \u001b[0mshell\u001b[0m\u001b[0;34m=\u001b[0m\u001b[0;32mTrue\u001b[0m\u001b[0;34m,\u001b[0m\u001b[0mstdout\u001b[0m\u001b[0;34m=\u001b[0m\u001b[0msubprocess\u001b[0m\u001b[0;34m.\u001b[0m\u001b[0mPIPE\u001b[0m\u001b[0;34m)\u001b[0m\u001b[0;34m\u001b[0m\u001b[0;34m\u001b[0m\u001b[0m\n",
      "\u001b[0;31mModuleNotFoundError\u001b[0m: No module named 'convert'"
     ]
    }
   ],
   "source": [
    "#Admixture analysis, optional\n",
    "import convert, admixture, graph_plotter\n",
    "phased_string = ' '.join(phased_files)\n",
    "loci_vcf = vcf_dir+'Phased/phased_merged.vcf.gz'\n",
    "concatcall = subprocess.Popen('vcf-concat '+phased_string+ ' | bgzip -c > '+loci_vcf, shell=True,stdout=subprocess.PIPE)\n",
    "temp_out, temp_err = concatcall.communicate()\n",
    "convert.run(['--vcf',loci_vcf,'--out-format','binary-ped','--out-prefix',vcf_dir+'great_ape','--overwrite'])\n",
    "admixture.run(['--file',vcf_dir+'great_ape.bed','--pop','2'])\n",
    "graph_plotter.bar_plot(vcf_dir+'great_ape.2.Q')\n",
    "print (\"Plots created\")\n",
    "\n"
   ]
  },
  {
   "cell_type": "code",
   "execution_count": null,
   "id": "52ad2cf8",
   "metadata": {},
   "outputs": [],
   "source": []
  }
 ],
 "metadata": {
  "kernelspec": {
   "display_name": "Python 3 (ipykernel)",
   "language": "python",
   "name": "python3"
  },
  "language_info": {
   "codemirror_mode": {
    "name": "ipython",
    "version": 3
   },
   "file_extension": ".py",
   "mimetype": "text/x-python",
   "name": "python",
   "nbconvert_exporter": "python",
   "pygments_lexer": "ipython3",
   "version": "3.7.13"
  }
 },
 "nbformat": 4,
 "nbformat_minor": 5
}
