{
 "cells": [
  {
   "cell_type": "code",
   "execution_count": 1,
   "id": "37b8f019",
   "metadata": {},
   "outputs": [],
   "source": [
    "import json"
   ]
  },
  {
   "cell_type": "code",
   "execution_count": 2,
   "id": "35fe54a0",
   "metadata": {},
   "outputs": [],
   "source": [
    "with open('great_ape.model') as model_file:\n",
    "    model_list = json.load(model_file)"
   ]
  },
  {
   "cell_type": "code",
   "execution_count": 5,
   "id": "56a7bf6f",
   "metadata": {},
   "outputs": [
    {
     "data": {
      "text/plain": [
       "{'name': '2Pop',\n",
       " 'pops': {'Paniscus': {'inds': ['Pan_paniscus-9731_LB502',\n",
       "    'Pan_paniscus-A914_Hortense',\n",
       "    'Pan_paniscus-A915_Kosana',\n",
       "    'Pan_paniscus-A917_Dzeeta',\n",
       "    'Pan_paniscus-A918_Hermien',\n",
       "    'Pan_paniscus-A919_Desmond',\n",
       "    'Pan_paniscus-A922_Catherine',\n",
       "    'Pan_paniscus-A923_Kombote',\n",
       "    'Pan_paniscus-A924_Chipita',\n",
       "    'Pan_paniscus-A925_Bono',\n",
       "    'Pan_paniscus-A926_Natalie',\n",
       "    'Pan_paniscus-A927_Salonga',\n",
       "    'Pan_paniscus-A928_Kumbuka']},\n",
       "  'Troglodytes': {'inds': ['Pan_troglodytes_troglodytes-A957_Vaillant',\n",
       "    'Pan_troglodytes_troglodytes-A958_Doris',\n",
       "    'Pan_troglodytes_troglodytes-A959_Julie',\n",
       "    'Pan_troglodytes_troglodytes-A960_Clara']}}}"
      ]
     },
     "execution_count": 5,
     "metadata": {},
     "output_type": "execute_result"
    }
   ],
   "source": [
    "model_list[1]"
   ]
  },
  {
   "cell_type": "code",
   "execution_count": 6,
   "id": "7a97ee20",
   "metadata": {},
   "outputs": [],
   "source": [
    "models = [model_dict['name'] for model_dict in model_list if 'name' in model_dict]"
   ]
  },
  {
   "cell_type": "code",
   "execution_count": 7,
   "id": "55b44d72",
   "metadata": {},
   "outputs": [
    {
     "data": {
      "text/plain": [
       "['1Pop', '2Pop', '3Pop']"
      ]
     },
     "execution_count": 7,
     "metadata": {},
     "output_type": "execute_result"
    }
   ],
   "source": [
    "models"
   ]
  },
  {
   "cell_type": "code",
   "execution_count": 8,
   "id": "78342a0f",
   "metadata": {},
   "outputs": [],
   "source": [
    "npop_dict = dict([(model_dict['name'], len(model_dict['pops'])) for model_dict in model_list if 'name' in model_dict])\n"
   ]
  },
  {
   "cell_type": "code",
   "execution_count": 9,
   "id": "c9ab2072",
   "metadata": {},
   "outputs": [
    {
     "data": {
      "text/plain": [
       "{'1Pop': 1, '2Pop': 2, '3Pop': 3}"
      ]
     },
     "execution_count": 9,
     "metadata": {},
     "output_type": "execute_result"
    }
   ],
   "source": [
    "npop_dict"
   ]
  },
  {
   "cell_type": "code",
   "execution_count": null,
   "id": "56a16fe2",
   "metadata": {},
   "outputs": [],
   "source": []
  }
 ],
 "metadata": {
  "kernelspec": {
   "display_name": "Python 3",
   "language": "python",
   "name": "python3"
  },
  "language_info": {
   "codemirror_mode": {
    "name": "ipython",
    "version": 3
   },
   "file_extension": ".py",
   "mimetype": "text/x-python",
   "name": "python",
   "nbconvert_exporter": "python",
   "pygments_lexer": "ipython3",
   "version": "3.7.13"
  }
 },
 "nbformat": 4,
 "nbformat_minor": 5
}
